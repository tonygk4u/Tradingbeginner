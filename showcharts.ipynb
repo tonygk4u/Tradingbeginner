{
  "nbformat": 4,
  "nbformat_minor": 0,
  "metadata": {
    "colab": {
      "name": "showcharts.ipynb",
      "version": "0.3.2",
      "provenance": [],
      "collapsed_sections": [],
      "include_colab_link": true
    },
    "kernelspec": {
      "name": "python3",
      "display_name": "Python 3"
    }
  },
  "cells": [
    {
      "cell_type": "markdown",
      "metadata": {
        "id": "view-in-github",
        "colab_type": "text"
      },
      "source": [
        "<a href=\"https://colab.research.google.com/github/tonygk4u/Tradingbeginner/blob/master/showcharts.ipynb\" target=\"_parent\"><img src=\"https://colab.research.google.com/assets/colab-badge.svg\" alt=\"Open In Colab\"/></a>"
      ]
    },
    {
      "cell_type": "code",
      "metadata": {
        "id": "uarRHKrFAtKr",
        "colab_type": "code",
        "colab": {}
      },
      "source": [
        "from nsepy import get_history\n",
        "from datetime import date, timedelta\n",
        "import matplotlib.pyplot as plt\n",
        "from matplotlib.pylab import rcParams\n",
        "import numpy as np"
      ],
      "execution_count": 0,
      "outputs": []
    },
    {
      "cell_type": "code",
      "metadata": {
        "id": "hwzv--QcBL0O",
        "colab_type": "code",
        "colab": {
          "base_uri": "https://localhost:8080/",
          "height": 235
        },
        "outputId": "2e3d6131-4224-4e43-d5a2-bc6b5b4732df"
      },
      "source": [
        "enddate = date.today()\n",
        "startdate = date.today() - timedelta(days=365)\n",
        "data = get_history(symbol=\"SOUTHBANK\", start=startdate, end=enddate)\n",
        "data.head()\n"
      ],
      "execution_count": 43,
      "outputs": [
        {
          "output_type": "execute_result",
          "data": {
            "text/html": [
              "<div>\n",
              "<style scoped>\n",
              "    .dataframe tbody tr th:only-of-type {\n",
              "        vertical-align: middle;\n",
              "    }\n",
              "\n",
              "    .dataframe tbody tr th {\n",
              "        vertical-align: top;\n",
              "    }\n",
              "\n",
              "    .dataframe thead th {\n",
              "        text-align: right;\n",
              "    }\n",
              "</style>\n",
              "<table border=\"1\" class=\"dataframe\">\n",
              "  <thead>\n",
              "    <tr style=\"text-align: right;\">\n",
              "      <th></th>\n",
              "      <th>Symbol</th>\n",
              "      <th>Series</th>\n",
              "      <th>Prev Close</th>\n",
              "      <th>Open</th>\n",
              "      <th>High</th>\n",
              "      <th>Low</th>\n",
              "      <th>Last</th>\n",
              "      <th>Close</th>\n",
              "      <th>VWAP</th>\n",
              "      <th>Volume</th>\n",
              "      <th>Turnover</th>\n",
              "      <th>Trades</th>\n",
              "      <th>Deliverable Volume</th>\n",
              "      <th>%Deliverble</th>\n",
              "    </tr>\n",
              "    <tr>\n",
              "      <th>Date</th>\n",
              "      <th></th>\n",
              "      <th></th>\n",
              "      <th></th>\n",
              "      <th></th>\n",
              "      <th></th>\n",
              "      <th></th>\n",
              "      <th></th>\n",
              "      <th></th>\n",
              "      <th></th>\n",
              "      <th></th>\n",
              "      <th></th>\n",
              "      <th></th>\n",
              "      <th></th>\n",
              "      <th></th>\n",
              "    </tr>\n",
              "  </thead>\n",
              "  <tbody>\n",
              "    <tr>\n",
              "      <th>2018-06-11</th>\n",
              "      <td>SOUTHBANK</td>\n",
              "      <td>EQ</td>\n",
              "      <td>24.60</td>\n",
              "      <td>24.65</td>\n",
              "      <td>25.50</td>\n",
              "      <td>24.50</td>\n",
              "      <td>25.00</td>\n",
              "      <td>25.00</td>\n",
              "      <td>25.00</td>\n",
              "      <td>9849576</td>\n",
              "      <td>2.462359e+13</td>\n",
              "      <td>16538</td>\n",
              "      <td>2620506</td>\n",
              "      <td>0.2661</td>\n",
              "    </tr>\n",
              "    <tr>\n",
              "      <th>2018-06-12</th>\n",
              "      <td>SOUTHBANK</td>\n",
              "      <td>EQ</td>\n",
              "      <td>25.00</td>\n",
              "      <td>25.15</td>\n",
              "      <td>25.15</td>\n",
              "      <td>24.75</td>\n",
              "      <td>24.90</td>\n",
              "      <td>24.85</td>\n",
              "      <td>24.90</td>\n",
              "      <td>3440717</td>\n",
              "      <td>8.567783e+12</td>\n",
              "      <td>7123</td>\n",
              "      <td>1007938</td>\n",
              "      <td>0.2929</td>\n",
              "    </tr>\n",
              "    <tr>\n",
              "      <th>2018-06-13</th>\n",
              "      <td>SOUTHBANK</td>\n",
              "      <td>EQ</td>\n",
              "      <td>24.85</td>\n",
              "      <td>24.85</td>\n",
              "      <td>25.20</td>\n",
              "      <td>24.85</td>\n",
              "      <td>24.90</td>\n",
              "      <td>24.95</td>\n",
              "      <td>24.99</td>\n",
              "      <td>5111496</td>\n",
              "      <td>1.277469e+13</td>\n",
              "      <td>5175</td>\n",
              "      <td>1296187</td>\n",
              "      <td>0.2536</td>\n",
              "    </tr>\n",
              "    <tr>\n",
              "      <th>2018-06-14</th>\n",
              "      <td>SOUTHBANK</td>\n",
              "      <td>EQ</td>\n",
              "      <td>24.95</td>\n",
              "      <td>24.80</td>\n",
              "      <td>24.90</td>\n",
              "      <td>24.50</td>\n",
              "      <td>24.85</td>\n",
              "      <td>24.80</td>\n",
              "      <td>24.72</td>\n",
              "      <td>4356753</td>\n",
              "      <td>1.077138e+13</td>\n",
              "      <td>8932</td>\n",
              "      <td>1027573</td>\n",
              "      <td>0.2359</td>\n",
              "    </tr>\n",
              "    <tr>\n",
              "      <th>2018-06-15</th>\n",
              "      <td>SOUTHBANK</td>\n",
              "      <td>EQ</td>\n",
              "      <td>24.80</td>\n",
              "      <td>24.80</td>\n",
              "      <td>25.05</td>\n",
              "      <td>24.00</td>\n",
              "      <td>24.05</td>\n",
              "      <td>24.10</td>\n",
              "      <td>24.39</td>\n",
              "      <td>7237624</td>\n",
              "      <td>1.765401e+13</td>\n",
              "      <td>9128</td>\n",
              "      <td>2160659</td>\n",
              "      <td>0.2985</td>\n",
              "    </tr>\n",
              "  </tbody>\n",
              "</table>\n",
              "</div>"
            ],
            "text/plain": [
              "               Symbol Series  ...  Deliverable Volume  %Deliverble\n",
              "Date                          ...                                 \n",
              "2018-06-11  SOUTHBANK     EQ  ...             2620506       0.2661\n",
              "2018-06-12  SOUTHBANK     EQ  ...             1007938       0.2929\n",
              "2018-06-13  SOUTHBANK     EQ  ...             1296187       0.2536\n",
              "2018-06-14  SOUTHBANK     EQ  ...             1027573       0.2359\n",
              "2018-06-15  SOUTHBANK     EQ  ...             2160659       0.2985\n",
              "\n",
              "[5 rows x 14 columns]"
            ]
          },
          "metadata": {
            "tags": []
          },
          "execution_count": 43
        }
      ]
    },
    {
      "cell_type": "code",
      "metadata": {
        "id": "T7OQTbInFsIE",
        "colab_type": "code",
        "colab": {
          "base_uri": "https://localhost:8080/",
          "height": 340
        },
        "outputId": "092d0faf-8e4f-4e05-f288-2297281dca10"
      },
      "source": [
        "\n",
        "plt.figure(figsize=(10,5))\n",
        "top = plt.subplot2grid((4,4), (0, 0), rowspan=3, colspan=4)\n",
        "bottom = plt.subplot2grid((4,4), (3,0), rowspan=1, colspan=4)\n",
        "top.plot(data.index, data['Close']) #CMT.index gives the dates\n",
        "bottom.bar(data.index, data['Volume'])\n",
        "#plt.title(data['Symbol'][1])\n",
        "\n",
        "#y_pos = np.arange(len(data))\n",
        "\n"
      ],
      "execution_count": 44,
      "outputs": [
        {
          "output_type": "execute_result",
          "data": {
            "text/plain": [
              "<BarContainer object of 244 artists>"
            ]
          },
          "metadata": {
            "tags": []
          },
          "execution_count": 44
        },
        {
          "output_type": "display_data",
          "data": {
            "image/png": "[encoded data removed]",
            "text/plain": [
              "<Figure size 720x360 with 2 Axes>"
            ]
          },
          "metadata": {
            "tags": []
          }
        }
      ]
    }
  ]
}